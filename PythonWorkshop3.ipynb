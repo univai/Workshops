{
  "cells": [
    {
      "cell_type": "markdown",
      "metadata": {
        "id": "4A7IZqAlgwIH"
      },
      "source": [
        "## Getting Started\n",
        "\n",
        "Lets start at the very beginning. You can use Python as a calculator. This gives you an idea of how to do arithmetic (and what the arithmetic operators are) in Python."
      ]
    },
    {
      "cell_type": "markdown",
      "metadata": {
        "id": "F0rZHyfEgc20"
      },
      "source": [
        "![](https://github.com/univai-pyprep-c1/BasicPython/raw/9a66b164175e3032fb88db4112754c1cb07ac4d8//getting_started.slides.dir/8.png)"
      ]
    },
    {
      "cell_type": "code",
      "execution_count": 1,
      "metadata": {
        "colab": {
          "base_uri": "https://localhost:8080/"
        },
        "id": "siqC1BNaggkD",
        "outputId": "fd1952b0-71c1-407f-e197-8cf1a9b2ee86"
      },
      "outputs": [
        {
          "output_type": "execute_result",
          "data": {
            "text/plain": [
              "2"
            ]
          },
          "metadata": {},
          "execution_count": 1
        }
      ],
      "source": [
        "1 + 1"
      ]
    },
    {
      "cell_type": "code",
      "source": [
        "5 - 3"
      ],
      "metadata": {
        "id": "xNjyIS5IufD0",
        "outputId": "2e1326b5-6a67-4db0-db11-54bb8b6baa1a",
        "colab": {
          "base_uri": "https://localhost:8080/"
        }
      },
      "execution_count": 2,
      "outputs": [
        {
          "output_type": "execute_result",
          "data": {
            "text/plain": [
              "2"
            ]
          },
          "metadata": {},
          "execution_count": 2
        }
      ]
    },
    {
      "cell_type": "code",
      "execution_count": 3,
      "metadata": {
        "colab": {
          "base_uri": "https://localhost:8080/"
        },
        "id": "WWns1uqOhH-L",
        "outputId": "77f026de-a1ee-4120-f950-c67ac9805533"
      },
      "outputs": [
        {
          "output_type": "execute_result",
          "data": {
            "text/plain": [
              "1024"
            ]
          },
          "metadata": {},
          "execution_count": 3
        }
      ],
      "source": [
        "2**10"
      ]
    },
    {
      "cell_type": "code",
      "execution_count": 4,
      "metadata": {
        "colab": {
          "base_uri": "https://localhost:8080/"
        },
        "id": "_9OTo_JWhKZx",
        "outputId": "f28671e3-bb90-4e6c-e44d-e13c4573243e"
      },
      "outputs": [
        {
          "output_type": "execute_result",
          "data": {
            "text/plain": [
              "2.5"
            ]
          },
          "metadata": {},
          "execution_count": 4
        }
      ],
      "source": [
        "5/2"
      ]
    },
    {
      "cell_type": "code",
      "source": [
        "5*2"
      ],
      "metadata": {
        "id": "AFjjE_Mvuta0",
        "outputId": "2ed9d79b-439a-4107-e71b-dd36d3f71429",
        "colab": {
          "base_uri": "https://localhost:8080/"
        }
      },
      "execution_count": 5,
      "outputs": [
        {
          "output_type": "execute_result",
          "data": {
            "text/plain": [
              "10"
            ]
          },
          "metadata": {},
          "execution_count": 5
        }
      ]
    },
    {
      "cell_type": "code",
      "execution_count": 6,
      "metadata": {
        "colab": {
          "base_uri": "https://localhost:8080/"
        },
        "id": "yyOpHZluhLrN",
        "outputId": "e61538da-e32d-4866-f1fb-ecdad6140582"
      },
      "outputs": [
        {
          "output_type": "execute_result",
          "data": {
            "text/plain": [
              "2"
            ]
          },
          "metadata": {},
          "execution_count": 6
        }
      ],
      "source": [
        "5//2"
      ]
    },
    {
      "cell_type": "code",
      "source": [
        "5 % 2"
      ],
      "metadata": {
        "id": "MTOIFSpRu4Pz",
        "outputId": "9f8d63c2-5355-4919-fdb4-9418d433957e",
        "colab": {
          "base_uri": "https://localhost:8080/"
        }
      },
      "execution_count": 7,
      "outputs": [
        {
          "output_type": "execute_result",
          "data": {
            "text/plain": [
              "1"
            ]
          },
          "metadata": {},
          "execution_count": 7
        }
      ]
    },
    {
      "cell_type": "markdown",
      "metadata": {
        "id": "hIubnDszhNCF"
      },
      "source": [
        "### Variables\n",
        "\n",
        "Variables are labels for values\n",
        "\n",
        "- Start with a letter or underscore\n",
        "- Can contain only alpha-numeric characters and underscore\n",
        "- Are case sensitive"
      ]
    },
    {
      "cell_type": "code",
      "execution_count": 8,
      "metadata": {
        "colab": {
          "base_uri": "https://localhost:8080/"
        },
        "id": "RvjT6_VchV9A",
        "outputId": "e95a0af2-fe80-4bc5-c1e3-24b73f8c25db"
      },
      "outputs": [
        {
          "output_type": "stream",
          "name": "stdout",
          "text": [
            "hello\n"
          ]
        }
      ],
      "source": [
        "# CANT DO THIS 9variable = \"hello\"\n",
        "# print 9variable\n",
        "\n",
        "Var = \"hello\"\n",
        "print (Var)"
      ]
    },
    {
      "cell_type": "markdown",
      "metadata": {
        "id": "znklPOb_hxSJ"
      },
      "source": [
        "What happened above? In the computer's memory, a location was found, and then filled with the word \"hello\". Then a variable Var was created and was used to label this memory location.\n",
        "\n",
        "![](https://github.com/univai-pyprep-c1/BasicPython/raw/9a66b164175e3032fb88db4112754c1cb07ac4d8//images/labelmem.jpg)\n",
        "\n",
        "A variable is literally a label. You can think of it as a post-it, or sticky note, or a pointer. Do not think of it as a box in which a value is stored.\n",
        "\n",
        "Variables point to values that can be of multiple types. See below:"
      ]
    },
    {
      "cell_type": "code",
      "execution_count": 9,
      "metadata": {
        "colab": {
          "base_uri": "https://localhost:8080/"
        },
        "id": "40Uwt7THhsy1",
        "outputId": "421c4caa-9763-46c9-cd23-b014fbb2ba9c"
      },
      "outputs": [
        {
          "output_type": "stream",
          "name": "stdout",
          "text": [
            "7 <class 'int'>\n",
            "7.01 <class 'float'>\n",
            "Hello World! <class 'str'>\n",
            "True <class 'bool'>\n"
          ]
        }
      ],
      "source": [
        "var = 7\n",
        "print (var, type(var))\n",
        "var = 7.01\n",
        "print (var, type(var))\n",
        "var = \"Hello World!\"\n",
        "print (var, type(var))\n",
        "var = True\n",
        "print (var, type(var))"
      ]
    },
    {
      "cell_type": "markdown",
      "metadata": {
        "id": "D_Br-QKdikLB"
      },
      "source": [
        "In the above, we just take the variable var and point it to different pieces of memory holding different values. This is perhaps more clear from a diagram.\n",
        "\n",
        "![](https://github.com/univai-pyprep-c1/BasicPython/raw/9a66b164175e3032fb88db4112754c1cb07ac4d8//images/labelmemmany.jpg)"
      ]
    },
    {
      "cell_type": "markdown",
      "metadata": {
        "id": "nrjc0oIHizIv"
      },
      "source": [
        "There are comparison operators, which can be used to make decisions:"
      ]
    },
    {
      "cell_type": "code",
      "execution_count": 12,
      "metadata": {
        "colab": {
          "base_uri": "https://localhost:8080/"
        },
        "id": "H7alzW88igui",
        "outputId": "ebc5e25d-3536-430e-ccb8-8cf6c07daefc"
      },
      "outputs": [
        {
          "output_type": "stream",
          "name": "stdout",
          "text": [
            "False\n",
            "True\n",
            "False\n"
          ]
        }
      ],
      "source": [
        "a = \"hgi\"\n",
        "b = \"hello\"\n",
        "c = \"hi\"\n",
        "d = \"hello\"\n",
        "print(a==c)\n",
        "print(b==d)\n",
        "var1 = 5\n",
        "var2 = 3\n",
        "print(var1 <= var2)  # > >="
      ]
    },
    {
      "cell_type": "markdown",
      "metadata": {
        "id": "IrYxzwOJjDAU"
      },
      "source": [
        "The first comparison compares the contents of the memory for a and c and finds that both are different, giving us False. Conversely, the second comparison gives us True. We can utilize such comparisons in \"decision statements\". The third is a numerical comparison. The fact that these comparisons give us a boolean value can be used in the decision-making:"
      ]
    },
    {
      "cell_type": "code",
      "execution_count": 13,
      "metadata": {
        "colab": {
          "base_uri": "https://localhost:8080/"
        },
        "id": "X-i2giKai-Y7",
        "outputId": "b6c841a3-1b11-464f-bdcf-1b51d5863bec"
      },
      "outputs": [
        {
          "output_type": "stream",
          "name": "stdout",
          "text": [
            "First variable is lesser than the second variable\n"
          ]
        }
      ],
      "source": [
        "#Simple If conditions\n",
        "var1 = 5\n",
        "var2 = 10\n",
        "\n",
        "if var1 == var2:\n",
        "  print(\"The values are equal\")\n",
        "if var1 < var2:\n",
        "  print(\"First variable is lesser than the second variable\")\n",
        "if var1 > var2:\n",
        "  print(\"Second variable is lesser than the first variable\")"
      ]
    },
    {
      "cell_type": "markdown",
      "metadata": {
        "id": "8rvW-j1QjYtU"
      },
      "source": [
        "Notice how python dispenses with brackets, replacing them by a colon and an indented next line. The indentation tells us that the code below runs when the condition holds. Python uses this colon-indentation for many things, such as for loops for iteration and loops in general, for conditionals, for function and class definition, etc.\n",
        "\n",
        "This conditional is such a common idiom that there is a better way to write it."
      ]
    },
    {
      "cell_type": "code",
      "execution_count": 14,
      "metadata": {
        "colab": {
          "base_uri": "https://localhost:8080/"
        },
        "id": "kS9VtABSjUiE",
        "outputId": "00b2fdcf-f9bf-4678-a72c-8e3cac372bb8"
      },
      "outputs": [
        {
          "output_type": "stream",
          "name": "stdout",
          "text": [
            "First variable is lesser than the second variable\n"
          ]
        }
      ],
      "source": [
        "#An alternative way to code the previous (If-Else)\n",
        "var1 = 5\n",
        "var2 = 10\n",
        "\n",
        "if (var1 == var2):\n",
        "    print(\"The values are equal\")\n",
        "elif (var1 < var2):\n",
        "    print(\"First variable is lesser than the second variable\")  \n",
        "else:\n",
        "    print(\"Second variable is lesser than the first variable\")"
      ]
    },
    {
      "cell_type": "markdown",
      "metadata": {
        "id": "927rJoinjjun"
      },
      "source": [
        "## Using pre-defined functions\n",
        "\n",
        "A function is a set of statements that take inputs, do some specific computation and produces output.\n",
        "\n",
        "There are many ways to define functions:\n",
        "\n",
        "- Functions can be built-in to python\n",
        "- Functions can imported from an existing Python Library, including libraries you have installed\n",
        "- A function can be user defined\n",
        "- A function can be anonymous\n",
        "- functions can belong to objects. More on this later.\n",
        "\n",
        "properties of functions:\n",
        "\n",
        "- A function can be called from other functions\n",
        "- Can return data, or even other functions\n",
        "\n",
        "![](https://github.com/univai-pyprep-c1/BasicPython/raw/9a66b164175e3032fb88db4112754c1cb07ac4d8//functions.slides.dir/2.png)"
      ]
    },
    {
      "cell_type": "code",
      "execution_count": 15,
      "metadata": {
        "colab": {
          "base_uri": "https://localhost:8080/"
        },
        "id": "zKtATFxFkJ4m",
        "outputId": "87948985-9bff-4011-ace6-ee74d2aaa03e"
      },
      "outputs": [
        {
          "output_type": "execute_result",
          "data": {
            "text/plain": [
              "15"
            ]
          },
          "metadata": {},
          "execution_count": 15
        }
      ],
      "source": [
        "# Built-in functions\n",
        "\n",
        "var1 = -15\n",
        "abs(var1)"
      ]
    },
    {
      "cell_type": "markdown",
      "metadata": {
        "id": "B92MLiNpkSou"
      },
      "source": [
        "Here are two different ways of importing from a module, which is a library of python functions:"
      ]
    },
    {
      "cell_type": "code",
      "execution_count": 16,
      "metadata": {
        "colab": {
          "base_uri": "https://localhost:8080/"
        },
        "id": "x6RN4wQBkQIB",
        "outputId": "986aea21-3e15-496a-9c84-55775a1d4b75"
      },
      "outputs": [
        {
          "output_type": "execute_result",
          "data": {
            "text/plain": [
              "2.0"
            ]
          },
          "metadata": {},
          "execution_count": 16
        }
      ],
      "source": [
        "from math import sqrt\n",
        "sqrt(4)"
      ]
    },
    {
      "cell_type": "code",
      "source": [
        "import math\n",
        "math.sqrt(4.0)"
      ],
      "metadata": {
        "id": "ItOQmF9bywHF",
        "outputId": "f966a931-4ba1-4c43-c490-c3d3c1b8be41",
        "colab": {
          "base_uri": "https://localhost:8080/"
        }
      },
      "execution_count": 21,
      "outputs": [
        {
          "output_type": "execute_result",
          "data": {
            "text/plain": [
              "2.0"
            ]
          },
          "metadata": {},
          "execution_count": 21
        }
      ]
    },
    {
      "cell_type": "code",
      "source": [
        "math.sin(5)"
      ],
      "metadata": {
        "id": "MBCV-xpP2cUp",
        "outputId": "af860691-33ed-4a36-a45d-6a5345e53748",
        "colab": {
          "base_uri": "https://localhost:8080/"
        }
      },
      "execution_count": 20,
      "outputs": [
        {
          "output_type": "execute_result",
          "data": {
            "text/plain": [
              "-0.9589242746631385"
            ]
          },
          "metadata": {},
          "execution_count": 20
        }
      ]
    },
    {
      "cell_type": "code",
      "source": [
        "math."
      ],
      "metadata": {
        "id": "vn7AaTdz2gIN"
      },
      "execution_count": null,
      "outputs": []
    },
    {
      "cell_type": "code",
      "execution_count": 18,
      "metadata": {
        "colab": {
          "base_uri": "https://localhost:8080/"
        },
        "id": "UgFRAMpmkWPh",
        "outputId": "ca744770-23cc-4f32-c403-433c65f05024"
      },
      "outputs": [
        {
          "output_type": "execute_result",
          "data": {
            "text/plain": [
              "2"
            ]
          },
          "metadata": {},
          "execution_count": 18
        }
      ],
      "source": [
        "import os\n",
        "os.cpu_count()"
      ]
    },
    {
      "cell_type": "markdown",
      "metadata": {
        "id": "KUDNm9TvtD2E"
      },
      "source": [
        "The same importing syntax can be used to import variables for re-use, and we use that to define our own function"
      ]
    },
    {
      "cell_type": "code",
      "execution_count": 19,
      "metadata": {
        "id": "Vg4078QXtD2E",
        "outputId": "1c357dae-eb60-42b9-924e-b582d40151da",
        "colab": {
          "base_uri": "https://localhost:8080/"
        }
      },
      "outputs": [
        {
          "output_type": "execute_result",
          "data": {
            "text/plain": [
              "314.1592653589793"
            ]
          },
          "metadata": {},
          "execution_count": 19
        }
      ],
      "source": [
        "from math import pi\n",
        "def circle_area(radius):\n",
        "    area = pi*radius*radius\n",
        "    return area\n",
        "circle_area(10)"
      ]
    },
    {
      "cell_type": "markdown",
      "metadata": {
        "id": "frGftzt8tD2E"
      },
      "source": [
        "There are special functions that belong to \"objects\". These functions are called **methods**. There are even more special functions to create objects: these are called **constructors**. In time you'll learn to create these yourself, but in the meanwhile let us familiarize ourselves with these functions using libraries built into python.\n",
        "\n",
        "This is how file operations are implemented in python..."
      ]
    },
    {
      "cell_type": "markdown",
      "metadata": {
        "id": "bmyWGBnWp7OM"
      },
      "source": [
        "## EXERCISE 1: A Simple Calculator\n",
        "\n",
        "Here is a fun little calculator which exercises what you have learnt so far.\n",
        "\n",
        "It has only 4 operations - Addition, Subtraction, Multiplication and Divison\n",
        "\n"
      ]
    },
    {
      "cell_type": "code",
      "execution_count": 22,
      "metadata": {
        "colab": {
          "base_uri": "https://localhost:8080/"
        },
        "id": "XiVTLZDnqB5I",
        "outputId": "a6e7e854-1c85-4b11-ad72-3335e66b60dc"
      },
      "outputs": [
        {
          "output_type": "stream",
          "name": "stdout",
          "text": [
            "Select operation\n",
            "\n",
            "1.Addition\n",
            "2.Subtraction\n",
            "3.Multiplication\n",
            "4.Division\n",
            "\n",
            "Enter choice(1/2/3/4): 3\n",
            "\n",
            "Enter first number: 4\n",
            "\n",
            "Enter second number: 5\n",
            "4.0 * 5.0 = 20.0\n"
          ]
        }
      ],
      "source": [
        "print(\"Select operation\\n\")\n",
        "print(\"1.Addition\")\n",
        "print(\"2.Subtraction\")\n",
        "print(\"3.Multiplication\")\n",
        "print(\"4.Division\")\n",
        "\n",
        "# Something NEW: Take input from the user \n",
        "choice = input(\"\\nEnter choice(1/2/3/4): \")\n",
        "\n",
        "# We convert the input to a floating-pount(or real) number.\n",
        "\n",
        "num1 = float(input(\"\\nEnter first number: \"))\n",
        "num2 = float(input(\"\\nEnter second number: \"))\n",
        "\n",
        "if choice == '1':\n",
        "    print(num1,\"+\",num2,\"=\", num1 + num2)\n",
        "elif choice == '2':\n",
        "    print(num1,\"-\",num2,\"=\", num1 - num2)\n",
        "elif choice == '3':\n",
        "    print(num1,\"*\",num2,\"=\", num1 * num2)\n",
        "elif choice == '4': # could use else \n",
        "    if(num2==0):\n",
        "        print (\"Invalid input\")\n",
        "    else:\n",
        "        print(num1,\"/\",num2,\"=\", num1/num2)"
      ]
    },
    {
      "cell_type": "markdown",
      "metadata": {
        "id": "edBkZIBztD2F"
      },
      "source": [
        "![](https://github.com/univai/Workshops/blob/master/images/slide19.jpg?raw=1)\n",
        "![](https://github.com/univai/Workshops/blob/master/images/slide20.jpg?raw=1)"
      ]
    },
    {
      "cell_type": "markdown",
      "metadata": {
        "id": "zk7aypXSoCOJ"
      },
      "source": [
        "## Files\n",
        "\n",
        "The built-in `open()` function is a **constructor** that creates a Python file object, which serves as a link to a file residing on your machine. After calling 'open()', data can be transferred to and from the associated file by calling the returned file object's **methods**.\n",
        "\n",
        "At this point, you can read data from the file as a whole (`.read()`, or n bytes at a time, `.read(n`). You can read a line at a time with `.readline()`, and all the lines into a list of strings (whats that??) with `.readlines()`. Similar methods exist for writing.\n",
        "\n",
        "You must close the file `.close()` after you finish using it.\n",
        "\n",
        "![](https://github.com/univai-pyprep-c1/BasicPython/raw/9a66b164175e3032fb88db4112754c1cb07ac4d8//listiness.slides.dir/10.png)"
      ]
    },
    {
      "cell_type": "code",
      "execution_count": null,
      "metadata": {
        "id": "g5V1lOYrtD2F",
        "outputId": "d2b8648e-c7c7-4ecf-bea3-ab8cfad9fd75"
      },
      "outputs": [
        {
          "data": {
            "text/plain": [
              "str"
            ]
          },
          "execution_count": 40,
          "metadata": {},
          "output_type": "execute_result"
        }
      ],
      "source": [
        "fd = open(\"data/CAUR.csv\")\n",
        "thecontents = fd.read()\n",
        "fd.close()\n",
        "type(thecontents)"
      ]
    },
    {
      "cell_type": "markdown",
      "metadata": {
        "id": "yzz1TqC1tD2F"
      },
      "source": [
        "The text read in from a file is a **string** of characters. Gere are the first 200"
      ]
    },
    {
      "cell_type": "code",
      "execution_count": null,
      "metadata": {
        "id": "QFIqDHAOtD2F",
        "outputId": "a67bceb1-c595-46e1-eeff-50239da61472"
      },
      "outputs": [
        {
          "data": {
            "text/plain": [
              "'DATE,CAUR\\n1976-01-01,9.2\\n1976-02-01,9.2\\n1976-03-01,9.1\\n1976-04-01,9.1\\n1976-05-01,9.0\\n1976-06-01,9.0\\n1976-07-01,9.000\\n1976-08-01,9.100\\n1976-09-01,9.200\\n1976-10-01,9.300\\n1976-11-01,9.3\\n1976-12-01,9.300\\n'"
            ]
          },
          "execution_count": 43,
          "metadata": {},
          "output_type": "execute_result"
        }
      ],
      "source": [
        "thecontents[0:200]"
      ]
    },
    {
      "cell_type": "markdown",
      "metadata": {
        "id": "rzdMCkOBpMFx"
      },
      "source": [
        "### What about writing?\n",
        "\n",
        "We may want to modify or process files, and then write them out. For this we must use the `open` constructor with an additional argument, which signifies that we are in a writing mode."
      ]
    },
    {
      "cell_type": "code",
      "execution_count": null,
      "metadata": {
        "id": "o9smIsSapKSy"
      },
      "outputs": [],
      "source": [
        "fd = open(\"data/CAUR.csv\")\n",
        "fd2 = open(\"data/CAUR.txt\", \"w\")\n",
        "fd2.write(thecontents)\n",
        "fd.close()\n",
        "fd2.close()"
      ]
    },
    {
      "cell_type": "markdown",
      "metadata": {
        "id": "7mIkf6kRlvy5"
      },
      "source": [
        "## Listiness.. or things that behave like lists\n",
        "\n",
        "Python puts great stock in the idea of having protocols or mechanisms of behavior, and identifying cases in which this behavior is common.\n",
        "\n",
        "One of the most important ideas is that of things that behave like a list of items.\n",
        "\n",
        "These include lists, strings, and even files! Many other data structures in Python are made to behave like lists as well, so that their content can be iterated through, in addition to their own native behavior.\n",
        "\n",
        "### Lists\n",
        "\n",
        "![](https://github.com/univai-pyprep-c1/BasicPython/raw/9a66b164175e3032fb88db4112754c1cb07ac4d8//listiness.slides.dir/3.png)"
      ]
    },
    {
      "cell_type": "code",
      "execution_count": null,
      "metadata": {
        "colab": {
          "base_uri": "https://localhost:8080/"
        },
        "id": "vXqQam55l9JI",
        "outputId": "a80de3ee-4a5a-4500-f4d9-d714870b5e65"
      },
      "outputs": [
        {
          "name": "stdout",
          "output_type": "stream",
          "text": [
            "Wednesday\n"
          ]
        }
      ],
      "source": [
        "# CREATING A LIST\n",
        "\n",
        "# A list is made from zero or more elements, separated by commas, and surrounded by square\n",
        "empty_list = []\n",
        "working_days = ['Monday', 'Tuesday', 'Wednesday', 'Thursday', 'Friday']\n",
        "print (working_days[2])"
      ]
    },
    {
      "cell_type": "markdown",
      "metadata": {
        "id": "fkljdexntD2G"
      },
      "source": [
        "Or you can create an empty list using the `list()` constructor, and add things to it"
      ]
    },
    {
      "cell_type": "code",
      "execution_count": null,
      "metadata": {
        "id": "YWVzPwlxtD2G",
        "outputId": "dd772130-2bb3-4ff9-d69a-8f4235775882"
      },
      "outputs": [
        {
          "data": {
            "text/plain": [
              "['Mon']"
            ]
          },
          "execution_count": 20,
          "metadata": {},
          "output_type": "execute_result"
        }
      ],
      "source": [
        "mylist = list()\n",
        "mylist.append(\"Mon\")\n",
        "mylist"
      ]
    },
    {
      "cell_type": "markdown",
      "metadata": {
        "id": "FIIneLlRtD2H"
      },
      "source": [
        "The constructor can take arguments: here a **range** object, which is an un-materialized sequence (why would you not materialize a sequence? ). "
      ]
    },
    {
      "cell_type": "markdown",
      "metadata": {
        "id": "MLZNK3_Rmao4"
      },
      "source": [
        "![](https://github.com/univai-pyprep-c1/BasicPython/raw/9a66b164175e3032fb88db4112754c1cb07ac4d8//listiness.slides.dir/4.png)"
      ]
    },
    {
      "cell_type": "code",
      "execution_count": null,
      "metadata": {
        "colab": {
          "base_uri": "https://localhost:8080/"
        },
        "id": "sKftKsU5mKS8",
        "outputId": "42abc8ff-52b4-42d5-c1cf-5e8d1613ba64"
      },
      "outputs": [
        {
          "data": {
            "text/plain": [
              "[1, 2, 3, 4]"
            ]
          },
          "execution_count": 21,
          "metadata": {},
          "output_type": "execute_result"
        }
      ],
      "source": [
        "lst = list(range(1,5))\n",
        "lst"
      ]
    },
    {
      "cell_type": "markdown",
      "metadata": {
        "id": "LfSLl2YAtD2H"
      },
      "source": [
        "How would you access various elements of `lst` ? You can get the first and the last like so:"
      ]
    },
    {
      "cell_type": "code",
      "execution_count": null,
      "metadata": {
        "colab": {
          "base_uri": "https://localhost:8080/"
        },
        "outputId": "42abc8ff-52b4-42d5-c1cf-5e8d1613ba64",
        "id": "2WpjHhlQtD2H"
      },
      "outputs": [
        {
          "name": "stdout",
          "output_type": "stream",
          "text": [
            "1 4\n"
          ]
        }
      ],
      "source": [
        "print (lst[0],lst[-1])"
      ]
    },
    {
      "cell_type": "markdown",
      "metadata": {
        "id": "f6FoGmrmtD2I"
      },
      "source": [
        "Or a **slice** of the list as so:"
      ]
    },
    {
      "cell_type": "code",
      "execution_count": null,
      "metadata": {
        "colab": {
          "base_uri": "https://localhost:8080/"
        },
        "id": "czQ1Vd07mhQr",
        "outputId": "a595ce2c-d2f0-4447-f256-1ff9fda91fa1"
      },
      "outputs": [
        {
          "data": {
            "text/plain": [
              "[1, 2, 3]"
            ]
          },
          "execution_count": 23,
          "metadata": {},
          "output_type": "execute_result"
        }
      ],
      "source": [
        "lst[0:3] # from 0, dont include whats at index 3"
      ]
    },
    {
      "cell_type": "code",
      "execution_count": null,
      "metadata": {
        "colab": {
          "base_uri": "https://localhost:8080/"
        },
        "id": "tXi6tdKGmkNH",
        "outputId": "ac7b93e1-276e-4e54-b60f-fa15cd9caa1a"
      },
      "outputs": [
        {
          "data": {
            "text/plain": [
              "[2, 3]"
            ]
          },
          "execution_count": 24,
          "metadata": {},
          "output_type": "execute_result"
        }
      ],
      "source": [
        "lst[-3:-1]"
      ]
    },
    {
      "cell_type": "code",
      "execution_count": null,
      "metadata": {
        "colab": {
          "base_uri": "https://localhost:8080/"
        },
        "id": "Ed82ITi8mpJ-",
        "outputId": "8570bdf0-2133-4604-f6d3-8e255cc36377"
      },
      "outputs": [
        {
          "data": {
            "text/plain": [
              "[[1, 2, 3, 4, 5], ['PP', 'BDA', 'USP', 'WTA'], '6th sem']"
            ]
          },
          "execution_count": 26,
          "metadata": {},
          "output_type": "execute_result"
        }
      ],
      "source": [
        "# A list can have another list, or anything else as its element\n",
        "numbers = [1, 2, 3, 4, 5]\n",
        "courses = ['PP', 'BDA', \"USP\", 'WTA'] \n",
        "new_list = [numbers, courses, '6th sem']\n",
        "new_list"
      ]
    },
    {
      "cell_type": "markdown",
      "metadata": {
        "id": "mGbk34RytD2I"
      },
      "source": [
        "How do you know that something is in a list?"
      ]
    },
    {
      "cell_type": "code",
      "execution_count": null,
      "metadata": {
        "colab": {
          "base_uri": "https://localhost:8080/"
        },
        "id": "S3n0bTcUmt34",
        "outputId": "b06b407b-621c-4c15-9c0a-0a81c4627bf6"
      },
      "outputs": [
        {
          "data": {
            "text/plain": [
              "True"
            ]
          },
          "execution_count": 28,
          "metadata": {},
          "output_type": "execute_result"
        }
      ],
      "source": [
        "# Membership (using 'in' operator)\n",
        "'PP' in courses"
      ]
    },
    {
      "cell_type": "markdown",
      "metadata": {
        "id": "9qy24U4ctD2J"
      },
      "source": [
        "Or add something to a list:"
      ]
    },
    {
      "cell_type": "code",
      "execution_count": null,
      "metadata": {
        "colab": {
          "base_uri": "https://localhost:8080/"
        },
        "id": "vZuQnv1TmyfA",
        "outputId": "d5cca06b-5385-46e7-b040-081bb0495619"
      },
      "outputs": [
        {
          "name": "stdout",
          "output_type": "stream",
          "text": [
            "['a', 'b', 'c', 'd']\n"
          ]
        }
      ],
      "source": [
        "# append(x) - Adds a new element 'x' at the end of the list\n",
        "alist = ['a', 'b', 'c'] \n",
        "alist.append('d') \n",
        "print (alist)"
      ]
    },
    {
      "cell_type": "markdown",
      "metadata": {
        "id": "MerhRza8nIoG"
      },
      "source": [
        "**NOTE** Adding lists produces a bigger list! This is an example of a programming technique called operator overloading"
      ]
    },
    {
      "cell_type": "code",
      "execution_count": null,
      "metadata": {
        "colab": {
          "base_uri": "https://localhost:8080/"
        },
        "id": "x7v1WGqVnCr9",
        "outputId": "e730d76a-20bf-4d45-9182-77dcab87f37b"
      },
      "outputs": [
        {
          "data": {
            "text/plain": [
              "[1, 2, 3, 'a', 'b', 'c']"
            ]
          },
          "execution_count": 30,
          "metadata": {},
          "output_type": "execute_result"
        }
      ],
      "source": [
        "first_list = [1, 2, 3]\n",
        "second_list = ['a', 'b', 'c']\n",
        "first_list + second_list"
      ]
    },
    {
      "cell_type": "markdown",
      "metadata": {
        "id": "FLKWEot9nNFZ"
      },
      "source": [
        "### Iteration\n",
        "\n",
        "for loops are fundamental in any language to go over lists.\n",
        "\n"
      ]
    },
    {
      "cell_type": "code",
      "execution_count": null,
      "metadata": {
        "colab": {
          "base_uri": "https://localhost:8080/"
        },
        "id": "wwyBVIB_nHuM",
        "outputId": "b7a4e344-cd96-47e7-ee52-8d0ffe763ff1"
      },
      "outputs": [
        {
          "name": "stdout",
          "output_type": "stream",
          "text": [
            "4\n",
            "7\n",
            "2\n",
            "6\n",
            "3\n",
            "9\n"
          ]
        }
      ],
      "source": [
        "num = [4, 7, 2, 6, 3, 9]\n",
        "for ele in num:\n",
        "    print(ele)"
      ]
    },
    {
      "cell_type": "markdown",
      "metadata": {
        "id": "zsc7p06vtD2J"
      },
      "source": [
        "Combine with `if` to filter out some elements:"
      ]
    },
    {
      "cell_type": "code",
      "execution_count": null,
      "metadata": {
        "colab": {
          "base_uri": "https://localhost:8080/"
        },
        "id": "qEPSTJTqnX90",
        "outputId": "25f213e2-2e1a-40a7-d639-20070c9f6b09"
      },
      "outputs": [
        {
          "name": "stdout",
          "output_type": "stream",
          "text": [
            "4\n",
            "2\n",
            "6\n"
          ]
        }
      ],
      "source": [
        "for ele in num:\n",
        "    if ele % 2 == 0: #even numbers only\n",
        "        print(ele)"
      ]
    },
    {
      "cell_type": "markdown",
      "metadata": {
        "id": "QqUiaw7Xneav"
      },
      "source": [
        "There is a short-cut iteration syntax called a **list comprehension**, often used to construct new lists"
      ]
    },
    {
      "cell_type": "code",
      "execution_count": null,
      "metadata": {
        "colab": {
          "base_uri": "https://localhost:8080/"
        },
        "id": "uCDuB1PvncOP",
        "outputId": "7bad03d8-f06d-4a84-d5fc-c19aa5204e21"
      },
      "outputs": [
        {
          "data": {
            "text/plain": [
              "[4, 7, 2, 6, 3, 9]"
            ]
          },
          "execution_count": 34,
          "metadata": {},
          "output_type": "execute_result"
        }
      ],
      "source": [
        "list_with_same_as_num = [e for e in num]\n",
        "list_with_same_as_num"
      ]
    },
    {
      "cell_type": "code",
      "execution_count": null,
      "metadata": {
        "colab": {
          "base_uri": "https://localhost:8080/"
        },
        "id": "iFlgf3MmnmN-",
        "outputId": "7642798e-536a-4529-c432-34ccedb466c1"
      },
      "outputs": [
        {
          "data": {
            "text/plain": [
              "[16, 49, 4, 36, 9, 81]"
            ]
          },
          "execution_count": 35,
          "metadata": {},
          "output_type": "execute_result"
        }
      ],
      "source": [
        "squared_list = [e*e for e in num]\n",
        "squared_list"
      ]
    },
    {
      "cell_type": "code",
      "execution_count": null,
      "metadata": {
        "colab": {
          "base_uri": "https://localhost:8080/"
        },
        "id": "qrTcWIwgnib-",
        "outputId": "a5275655-25f9-439f-dd33-b63e38dd359e"
      },
      "outputs": [
        {
          "data": {
            "text/plain": [
              "[4, 2, 6]"
            ]
          },
          "execution_count": 36,
          "metadata": {},
          "output_type": "execute_result"
        }
      ],
      "source": [
        "list_with_evens = [e for e in num if e % 2 == 0]\n",
        "list_with_evens"
      ]
    },
    {
      "cell_type": "markdown",
      "metadata": {
        "id": "W9SpEehsnlM8"
      },
      "source": [
        "### Strings are like lists.\n",
        "\n",
        "Strings such as \"hello world\" in python behave just like lists, and a lot of what you learn about lists applies to them: they are iterable, and they have a length! But they have one critical additional property: they are immutable, that is they cant be changed!"
      ]
    },
    {
      "cell_type": "code",
      "execution_count": null,
      "metadata": {
        "colab": {
          "base_uri": "https://localhost:8080/"
        },
        "id": "EqdW1x9bnynG",
        "outputId": "fa56a468-42f6-43a2-e6c3-c501e2b7e70d"
      },
      "outputs": [
        {
          "name": "stdout",
          "output_type": "stream",
          "text": [
            "This is a string 16\n",
            "s\n",
            "T\n",
            "h\n",
            "i\n",
            "s\n",
            " \n",
            "i\n",
            "s\n",
            " \n",
            "a\n",
            " \n",
            "s\n",
            "t\n",
            "r\n",
            "i\n",
            "n\n",
            "g\n"
          ]
        }
      ],
      "source": [
        "var = \"This is a string\"\n",
        "print (var, len(var))\n",
        "print (var[3]) # the s of This\n",
        "for char in var:\n",
        "    print(char)"
      ]
    },
    {
      "cell_type": "code",
      "execution_count": null,
      "metadata": {
        "colab": {
          "base_uri": "https://localhost:8080/",
          "height": 198
        },
        "id": "vpcUBz3-n29I",
        "outputId": "51f9b16a-efb2-43eb-9737-743dbe504917"
      },
      "outputs": [
        {
          "ename": "TypeError",
          "evalue": "'str' object does not support item assignment",
          "output_type": "error",
          "traceback": [
            "\u001b[0;31m---------------------------------------------------------------------------\u001b[0m",
            "\u001b[0;31mTypeError\u001b[0m                                 Traceback (most recent call last)",
            "\u001b[0;32m<ipython-input-38-afd63de1e61e>\u001b[0m in \u001b[0;36m<module>\u001b[0;34m\u001b[0m\n\u001b[0;32m----> 1\u001b[0;31m \u001b[0mvar\u001b[0m\u001b[0;34m[\u001b[0m\u001b[0;36m3\u001b[0m\u001b[0;34m]\u001b[0m \u001b[0;34m=\u001b[0m \u001b[0;34m\"t\"\u001b[0m \u001b[0;31m# this will fail because immutability\u001b[0m\u001b[0;34m\u001b[0m\u001b[0;34m\u001b[0m\u001b[0m\n\u001b[0m",
            "\u001b[0;31mTypeError\u001b[0m: 'str' object does not support item assignment"
          ]
        }
      ],
      "source": [
        "var[3] = \"t\" # this will fail because immutability"
      ]
    },
    {
      "cell_type": "code",
      "execution_count": null,
      "metadata": {
        "colab": {
          "base_uri": "https://localhost:8080/"
        },
        "id": "VBx5pYO9n5_b",
        "outputId": "e33968f7-ee21-4036-95eb-bb23faa09ec9"
      },
      "outputs": [
        {
          "name": "stdout",
          "output_type": "stream",
          "text": [
            "This is a string\n",
            "s a string\n",
            "hi\n",
            "This is a strin\n",
            "i sa\n"
          ]
        }
      ],
      "source": [
        "# String slicing\n",
        "print(var)\n",
        "print (var[6:])\n",
        "print (var[1:3])\n",
        "print (var[:-1])\n",
        "print (var[2:10:2]) #the last parameter is for chagning the step size"
      ]
    },
    {
      "cell_type": "markdown",
      "metadata": {
        "id": "PtpGc8GvtD2L"
      },
      "source": [
        "![](https://github.com/univai-pyprep-c1/BasicPython/raw/9a66b164175e3032fb88db4112754c1cb07ac4d8//listiness.slides.dir/7.png)"
      ]
    },
    {
      "cell_type": "markdown",
      "metadata": {
        "id": "WL4hRbIbtD2L"
      },
      "source": [
        "### Files are like lists"
      ]
    },
    {
      "cell_type": "code",
      "execution_count": null,
      "metadata": {
        "colab": {
          "base_uri": "https://localhost:8080/"
        },
        "id": "3K2UQWeqoA60",
        "outputId": "2a3897fb-6638-4c8c-b931-6099345e5a45"
      },
      "outputs": [
        {
          "name": "stdout",
          "output_type": "stream",
          "text": [
            "<< THE TRAGEDY OF JULIUS CAESAR\n",
            " >>\n",
            "<< \n",
            " >>\n",
            "<< \n",
            " >>\n",
            "<< by William Shakespeare\n",
            " >>\n",
            "<< \n",
            " >>\n",
            "<< \n",
            " >>\n",
            "<< Contents\n",
            " >>\n",
            "<< \n",
            " >>\n",
            "<< ACT I\n",
            " >>\n",
            "<< Scene I. Rome. A street.\n",
            " >>\n"
          ]
        }
      ],
      "source": [
        "fd = open(\"data/Julius Caesar.txt\")\n",
        "counter = 0\n",
        "for line in fd:\n",
        "    if counter < 10: # print first 10 lines, there are lots!\n",
        "        print(\"<<\", line, \">>\")\n",
        "    counter = counter + 1 # also writeable as counter += 1\n",
        "fd.close()"
      ]
    },
    {
      "cell_type": "markdown",
      "metadata": {
        "id": "tzPQVSS5oytQ"
      },
      "source": [
        "Notice that the newlines remain. You can use the string method `strip` to remove them. "
      ]
    },
    {
      "cell_type": "code",
      "execution_count": null,
      "metadata": {
        "colab": {
          "base_uri": "https://localhost:8080/"
        },
        "id": "GCi3pOLaoo2p",
        "outputId": "416bf6f3-4754-4e08-a9f4-7968ff5079a8"
      },
      "outputs": [
        {
          "name": "stdout",
          "output_type": "stream",
          "text": [
            "<< THE TRAGEDY OF JULIUS CAESAR >>\n",
            "<<  >>\n",
            "<<  >>\n",
            "<< by William Shakespeare >>\n",
            "<<  >>\n",
            "<<  >>\n",
            "<< Contents >>\n",
            "<<  >>\n",
            "<< ACT I >>\n",
            "<< Scene I. Rome. A street. >>\n",
            "10\n"
          ]
        }
      ],
      "source": [
        "fd = open(\"data/Julius Caesar.txt\")\n",
        "counter = 0\n",
        "for line in fd:\n",
        "    if counter < 10: # print first 10 lines\n",
        "        print(\"<<\", line.strip(), \">>\")\n",
        "    else:\n",
        "        break # break out of for loop\n",
        "    counter = counter + 1 # also writeable as counter += 1\n",
        "fd.close()\n",
        "print(counter)"
      ]
    },
    {
      "cell_type": "markdown",
      "metadata": {
        "id": "LE-9eqnOqMYU"
      },
      "source": [
        "## EXERCISE 2: Read a file and parse words from it\n",
        "\n",
        "Read Julius Caesar. Get each line. Remove newline characters from each line. Split the line to get the words from the line (use the `split` method on strings). Lowercase them (use the `lower` method on strings). Print the first 1000 words, lower-cased.\n",
        "\n"
      ]
    },
    {
      "cell_type": "code",
      "execution_count": null,
      "metadata": {
        "colab": {
          "base_uri": "https://localhost:8080/"
        },
        "id": "wYKpT5bDpQmn",
        "outputId": "e88aebf2-0371-474a-a7ec-f626f46c441d"
      },
      "outputs": [
        {
          "name": "stdout",
          "output_type": "stream",
          "text": [
            "['the', 'tragedy', 'of', 'julius', 'caesar', 'by', 'william', 'shakespeare', 'contents', 'act', 'i', 'scene', 'i.', 'rome.', 'a', 'street.', 'scene', 'ii.', 'the', 'same.', 'a', 'public', 'place.', 'scene', 'iii.', 'the', 'same.', 'a', 'street.', 'act', 'ii', 'scene', 'i.', 'rome.', 'brutusâ€™', 'orchard.', 'scene', 'ii.', 'a', 'room', 'in', 'caesarâ€™s', 'palace.', 'scene', 'iii.', 'a', 'street', 'near', 'the', 'capitol.', 'scene', 'iv.', 'another', 'part', 'of', 'the', 'same', 'street,', 'before', 'the', 'house', 'of', 'brutus.', 'act', 'iii', 'scene', 'i.', 'rome.', 'before', 'the', 'capitol;', 'the', 'senate', 'sitting.', 'scene', 'ii.', 'the', 'same.', 'the', 'forum.', 'scene', 'iii.', 'the', 'same.', 'a', 'street.', 'act', 'iv', 'scene', 'i.', 'a', 'room', 'in', 'antonyâ€™s', 'house.', 'scene', 'ii.', 'before', 'brutusâ€™', 'tent,', 'in', 'the', 'camp', 'near', 'sardis.', 'scene', 'iii.', 'within', 'the', 'tent', 'of', 'brutus.', 'act', 'v', 'scene', 'i.', 'the', 'plains', 'of', 'philippi.', 'scene', 'ii.', 'the', 'same.', 'the', 'field', 'of', 'battle.', 'scene', 'iii.', 'another', 'part', 'of', 'the', 'field.', 'scene', 'iv.', 'another', 'part', 'of', 'the', 'field.', 'scene', 'v.', 'another', 'part', 'of', 'the', 'field.', 'dramatis', 'personã¦', 'julius', 'caesar', 'octavius', 'caesar,', 'triumvir', 'after', 'his', 'death.', 'marcus', 'antonius,', 'â€\\x9d', 'â€\\x9d', 'â€\\x9d', 'm.', 'aemilius', 'lepidus,', 'â€\\x9d', 'â€\\x9d', 'â€\\x9d', 'cicero,', 'publius,', 'popilius', 'lena,', 'senators.', 'marcus', 'brutus,', 'conspirator', 'against', 'caesar.', 'cassius,', 'â€\\x9d', 'â€\\x9d', 'â€\\x9d', 'casca,', 'â€\\x9d', 'â€\\x9d', 'â€\\x9d', 'trebonius,', 'â€\\x9d', 'â€\\x9d', 'â€\\x9d', 'ligarius,â€\\x9d', 'â€\\x9d', 'â€\\x9d', 'decius', 'brutus,', 'â€\\x9d', 'â€\\x9d', 'â€\\x9d', 'metellus', 'cimber,', 'â€\\x9d', 'â€\\x9d', 'â€\\x9d', 'cinna,', 'â€\\x9d', 'â€\\x9d', 'â€\\x9d', 'flavius,', 'tribune', 'marullus,', 'tribune', 'artemidorus,', 'a', 'sophist', 'of', 'cnidos.', 'a', 'soothsayer', 'cinna,', 'a', 'poet.', 'another', 'poet.', 'lucilius,', 'titinius,', 'messala,', 'young', 'cato,', 'and', 'volumnius,', 'friends', 'to', 'brutus', 'and', 'cassius.', 'varro,', 'clitus,', 'claudius,', 'strato,', 'lucius,', 'dardanius,', 'servants', 'to', 'brutus', 'pindarus,', 'servant', 'to', 'cassius', 'calphurnia,', 'wife', 'to', 'caesar', 'portia,', 'wife', 'to', 'brutus', 'the', 'ghost', 'of', 'caesar', 'senators,', 'citizens,', 'soldiers,', 'commoners,', 'messengers,', 'and', 'servants.', 'scene:', 'rome,', 'the', 'conspiratorsâ€™', 'camp', 'near', 'sardis,', 'and', 'the', 'plains', 'of', 'philippi.', 'act', 'i', 'scene', 'i.', 'rome.', 'a', 'street.', 'enter', 'flavius,', 'marullus', 'and', 'a', 'throng', 'of', 'citizens.', 'flavius.', 'hence!', 'home,', 'you', 'idle', 'creatures,', 'get', 'you', 'home.', 'is', 'this', 'a', 'holiday?', 'what,', 'know', 'you', 'not,', 'being', 'mechanical,', 'you', 'ought', 'not', 'walk', 'upon', 'a', 'labouring', 'day', 'without', 'the', 'sign', 'of', 'your', 'profession?', 'speak,', 'what', 'trade', 'art', 'thou?', 'carpenter.', 'why,', 'sir,', 'a', 'carpenter.', 'marullus.', 'where', 'is', 'thy', 'leather', 'apron', 'and', 'thy', 'rule?', 'what', 'dost', 'thou', 'with', 'thy', 'best', 'apparel', 'on?', 'you,', 'sir,', 'what', 'trade', 'are', 'you?', 'cobbler.', 'truly,', 'sir,', 'in', 'respect', 'of', 'a', 'fine', 'workman,', 'i', 'am', 'but,', 'as', 'you', 'would', 'say,', 'a', 'cobbler.', 'marullus.', 'but', 'what', 'trade', 'art', 'thou?', 'answer', 'me', 'directly.', 'cobbler.', 'a', 'trade,', 'sir,', 'that', 'i', 'hope', 'i', 'may', 'use', 'with', 'a', 'safe', 'conscience,', 'which', 'is', 'indeed,', 'sir,', 'a', 'mender', 'of', 'bad', 'soles.', 'marullus.', 'what', 'trade,', 'thou', 'knave?', 'thou', 'naughty', 'knave,', 'what', 'trade?', 'cobbler.', 'nay,', 'i', 'beseech', 'you,', 'sir,', 'be', 'not', 'out', 'with', 'me;', 'yet,', 'if', 'you', 'be', 'out,', 'sir,', 'i', 'can', 'mend', 'you.', 'marullus.', 'what', 'meanâ€™st', 'thou', 'by', 'that?', 'mend', 'me,', 'thou', 'saucy', 'fellow!', 'cobbler.', 'why,', 'sir,', 'cobble', 'you.', 'flavius.', 'thou', 'art', 'a', 'cobbler,', 'art', 'thou?', 'cobbler.', 'truly,', 'sir,', 'all', 'that', 'i', 'live', 'by', 'is', 'with', 'the', 'awl;', 'i', 'meddle', 'with', 'no', 'tradesmanâ€™s', 'matters,', 'nor', 'womenâ€™s', 'matters,', 'but', 'withal', 'i', 'am', 'indeed,', 'sir,', 'a', 'surgeon', 'to', 'old', 'shoes:', 'when', 'they', 'are', 'in', 'great', 'danger,', 'i', 'recover', 'them.', 'as', 'proper', 'men', 'as', 'ever', 'trod', 'upon', 'neatâ€™s', 'leather', 'have', 'gone', 'upon', 'my', 'handiwork.', 'flavius.', 'but', 'wherefore', 'art', 'not', 'in', 'thy', 'shop', 'today?', 'why', 'dost', 'thou', 'lead', 'these', 'men', 'about', 'the', 'streets?', 'cobbler.', 'truly,', 'sir,', 'to', 'wear', 'out', 'their', 'shoes,', 'to', 'get', 'myself', 'into', 'more', 'work.', 'but', 'indeed,', 'sir,', 'we', 'make', 'holiday', 'to', 'see', 'caesar,', 'and', 'to', 'rejoice', 'in', 'his', 'triumph.', 'marullus.', 'wherefore', 'rejoice?', 'what', 'conquest', 'brings', 'he', 'home?', 'what', 'tributaries', 'follow', 'him', 'to', 'rome,', 'to', 'grace', 'in', 'captive', 'bonds', 'his', 'chariot', 'wheels?', 'you', 'blocks,', 'you', 'stones,', 'you', 'worse', 'than', 'senseless', 'things!', 'o', 'you', 'hard', 'hearts,', 'you', 'cruel', 'men', 'of', 'rome,', 'knew', 'you', 'not', 'pompey?', 'many', 'a', 'time', 'and', 'oft', 'have', 'you', 'climbâ€™d', 'up', 'to', 'walls', 'and', 'battlements,', 'to', 'towers', 'and', 'windows,', 'yea,', 'to', 'chimney', 'tops,', 'your', 'infants', 'in', 'your', 'arms,', 'and', 'there', 'have', 'sat', 'the', 'livelong', 'day', 'with', 'patient', 'expectation,', 'to', 'see', 'great', 'pompey', 'pass', 'the', 'streets', 'of', 'rome.', 'and', 'when', 'you', 'saw', 'his', 'chariot', 'but', 'appear,', 'have', 'you', 'not', 'made', 'an', 'universal', 'shout,', 'that', 'tiber', 'trembled', 'underneath', 'her', 'banks', 'to', 'hear', 'the', 'replication', 'of', 'your', 'sounds', 'made', 'in', 'her', 'concave', 'shores?', 'and', 'do', 'you', 'now', 'put', 'on', 'your', 'best', 'attire?', 'and', 'do', 'you', 'now', 'cull', 'out', 'a', 'holiday?', 'and', 'do', 'you', 'now', 'strew', 'flowers', 'in', 'his', 'way,', 'that', 'comes', 'in', 'triumph', 'over', 'pompeyâ€™s', 'blood?', 'be', 'gone!', 'run', 'to', 'your', 'houses,', 'fall', 'upon', 'your', 'knees,', 'pray', 'to', 'the', 'gods', 'to', 'intermit', 'the', 'plague', 'that', 'needs', 'must', 'light', 'on', 'this', 'ingratitude.', 'flavius.', 'go,', 'go,', 'good', 'countrymen,', 'and,', 'for', 'this', 'fault', 'assemble', 'all', 'the', 'poor', 'men', 'of', 'your', 'sort,', 'draw', 'them', 'to', 'tiber', 'banks,', 'and', 'weep', 'your', 'tears', 'into', 'the', 'channel,', 'till', 'the', 'lowest', 'stream', 'do', 'kiss', 'the', 'most', 'exalted', 'shores', 'of', 'all.', '[_exeunt', 'citizens._]', 'see', 'whether', 'their', 'basest', 'metal', 'be', 'not', 'movâ€™d;', 'they', 'vanish', 'tongue-tied', 'in', 'their', 'guiltiness.', 'go', 'you', 'down', 'that', 'way', 'towards', 'the', 'capitol;', 'this', 'way', 'will', 'i.', 'disrobe', 'the', 'images,', 'if', 'you', 'do', 'find', 'them', 'deckâ€™d', 'with', 'ceremonies.', 'marullus.', 'may', 'we', 'do', 'so?', 'you', 'know', 'it', 'is', 'the', 'feast', 'of', 'lupercal.', 'flavius.', 'it', 'is', 'no', 'matter;', 'let', 'no', 'images', 'be', 'hung', 'with', 'caesarâ€™s', 'trophies.', 'iâ€™ll', 'about', 'and', 'drive', 'away', 'the', 'vulgar', 'from', 'the', 'streets;', 'so', 'do', 'you', 'too,', 'where', 'you', 'perceive', 'them', 'thick.', 'these', 'growing', 'feathers', 'pluckâ€™d', 'from', 'caesarâ€™s', 'wing', 'will', 'make', 'him', 'fly', 'an', 'ordinary', 'pitch,', 'who', 'else', 'would', 'soar', 'above', 'the', 'view', 'of', 'men,', 'and', 'keep', 'us', 'all', 'in', 'servile', 'fearfulness.', '[_exeunt._]', 'scene', 'ii.', 'the', 'same.', 'a', 'public', 'place.', 'enter,', 'in', 'procession,', 'with', 'music,', 'caesar;', 'antony,', 'for', 'the', 'course;', 'calphurnia,', 'portia,', 'decius,', 'cicero,', 'brutus,', 'cassius', 'and', 'casca;', 'a', 'great', 'crowd', 'following,', 'among', 'them', 'a', 'soothsayer.', 'caesar.', 'calphurnia.', 'casca.', 'peace,', 'ho!', 'caesar', 'speaks.', '[_music', 'ceases._]', 'caesar.', 'calphurnia.', 'calphurnia.', 'here,', 'my', 'lord.', 'caesar.', 'stand', 'you', 'directly', 'in', 'antoniusâ€™', 'way,', 'when', 'he', 'doth', 'run', 'his', 'course.', 'antonius.', 'antony.', 'caesar,', 'my', 'lord?', 'caesar.', 'forget', 'not', 'in', 'your', 'speed,', 'antonius,', 'to', 'touch', 'calphurnia;', 'for', 'our', 'elders', 'say,', 'the', 'barren,', 'touched', 'in', 'this', 'holy', 'chase,', 'shake', 'off', 'their', 'sterile', 'curse.', 'antony.', 'i', 'shall', 'remember.']\n"
          ]
        }
      ],
      "source": [
        "# your code here\n",
        "## Read a file, parse lines, and get all words\n",
        "\n",
        "# make a list with all words in documents\n",
        "# the words can occur more than once\n",
        "wordlist = []  \n",
        "fd = open(\"data/Julius Caesar.txt\")\n",
        "lines = fd.readlines()\n",
        "fd.close()\n",
        "# strip newline characters and other whitespace off the edges\n",
        "cleaned_lines = [line.strip() for line in lines] \n",
        "# make a list of lists. \n",
        "# each inner list if the list of words on that line\n",
        "list_of_lines_words = [line.split() for line in lines]\n",
        "# Take each list of words, and get all the words\n",
        "for lines_words in list_of_lines_words:\n",
        "    wordlist = wordlist + [l.lower() for l in lines_words] # update the wordlist using the new list.\n",
        "print(wordlist[:1000]) # first 1000 words"
      ]
    },
    {
      "cell_type": "markdown",
      "metadata": {
        "id": "w8Ib9h0NtD2N"
      },
      "source": [
        "![](https://github.com/univai/Workshops/blob/master/images/slide21.jpg?raw=1)"
      ]
    },
    {
      "cell_type": "markdown",
      "metadata": {
        "id": "2ScIB5ykqc5M"
      },
      "source": [
        "## Dictionaries\n",
        "\n",
        "![](https://github.com/univai-pyprep-c1/BasicPython/raw/9a66b164175e3032fb88db4112754c1cb07ac4d8//data_structures.slides.dir/6.png)\n",
        "\n",
        "A \"bag\" of **value**s, each with its own label, called a **key**. The 'most powerful' data collection type,and one I suspect you will find yourself using a lot!\n",
        "\n",
        "A dictionary is similar to a list, and you can iterate over it but:\n",
        "\n",
        "- the order of items doesn't matter (use an `OrderedDict` for this)\n",
        "- they aren't selected by an index such as 0 or 5.\n",
        "\n",
        "Instead, a unique 'key' is associated with each 'value' . The 'key' can be any **immutable data type**: boolean, float, int, tuple, string (but it is often a string)\n",
        "\n",
        "Dictionaries themselves are \"Mutable\" (the values can be changed)."
      ]
    },
    {
      "cell_type": "markdown",
      "metadata": {
        "id": "5-PX2cs_tD2N"
      },
      "source": [
        "You can create a dictionary using the `{}` notation, which is an alias for calling the constructor `dict()`."
      ]
    },
    {
      "cell_type": "code",
      "execution_count": null,
      "metadata": {
        "colab": {
          "base_uri": "https://localhost:8080/"
        },
        "id": "QPBdWy84qsFl",
        "outputId": "06fff31c-dfcc-46de-9401-94cab24e739e"
      },
      "outputs": [
        {
          "name": "stdout",
          "output_type": "stream",
          "text": [
            "<class 'dict'>\n",
            "{'day': 5, 'venue': 'GJB', 'event': 'Python Carnival!'}\n"
          ]
        }
      ],
      "source": [
        "# Creating a dictionary:\n",
        "# 1. Using {}\n",
        "empty_dict = {} \n",
        "print (type(empty_dict))\n",
        "new_dict = { \"day\":5, \"venue\": \"GJB\", \"event\": \"Python Carnival!\" }\n",
        "print(new_dict)"
      ]
    },
    {
      "cell_type": "code",
      "execution_count": null,
      "metadata": {
        "id": "bC1kOsRCtD2O"
      },
      "outputs": [],
      "source": [
        "another_empty_dict = dict()"
      ]
    },
    {
      "cell_type": "markdown",
      "metadata": {
        "id": "BpFo0b0mtD2O"
      },
      "source": [
        "The `dict` cobstructor can take arguments to initialize the dictionary:"
      ]
    },
    {
      "cell_type": "code",
      "execution_count": null,
      "metadata": {
        "colab": {
          "base_uri": "https://localhost:8080/"
        },
        "id": "m2iT93clrDiM",
        "outputId": "d7d8713d-006b-4b85-ca5f-c9cb9927fe93"
      },
      "outputs": [
        {
          "data": {
            "text/plain": [
              "{'type': 'wallet', 'material': 'leather'}"
            ]
          },
          "execution_count": 49,
          "metadata": {},
          "output_type": "execute_result"
        }
      ],
      "source": [
        "#2. Using dict()\n",
        "purse = dict(type=\"wallet\", material=\"leather\")\n",
        "purse"
      ]
    },
    {
      "cell_type": "markdown",
      "metadata": {
        "id": "GzH2VuEqry-o"
      },
      "source": [
        "Getting and Setting values from a dictionary is easy:"
      ]
    },
    {
      "cell_type": "code",
      "execution_count": null,
      "metadata": {
        "colab": {
          "base_uri": "https://localhost:8080/",
          "height": 37
        },
        "id": "hUPBbJTgr2JY",
        "outputId": "768b237d-ce69-4290-b236-d4af69251d77"
      },
      "outputs": [
        {
          "data": {
            "text/plain": [
              "'wallet'"
            ]
          },
          "execution_count": 50,
          "metadata": {},
          "output_type": "execute_result"
        }
      ],
      "source": [
        "purse['type']"
      ]
    },
    {
      "cell_type": "code",
      "execution_count": null,
      "metadata": {
        "colab": {
          "base_uri": "https://localhost:8080/"
        },
        "id": "IP3h7K8prF6T",
        "outputId": "2fc69c07-e80b-4760-a494-019f5f1a5f5b"
      },
      "outputs": [
        {
          "data": {
            "text/plain": [
              "{'type': 'wallet', 'material': 'leather', 'make': 'Versace'}"
            ]
          },
          "execution_count": 51,
          "metadata": {},
          "output_type": "execute_result"
        }
      ],
      "source": [
        "purse['make'] = \"Versace\"\n",
        "purse"
      ]
    },
    {
      "cell_type": "markdown",
      "metadata": {
        "id": "SRhZOP7DrWej"
      },
      "source": [
        "Dictionaries are listy:"
      ]
    },
    {
      "cell_type": "code",
      "execution_count": null,
      "metadata": {
        "colab": {
          "base_uri": "https://localhost:8080/"
        },
        "id": "2ar0OaDsrIGW",
        "outputId": "35486cc4-4447-46b8-b9a7-07afcd151a5f"
      },
      "outputs": [
        {
          "name": "stdout",
          "output_type": "stream",
          "text": [
            "day : 5\n",
            "venue : GJB\n",
            "event : Python Carnival!\n"
          ]
        }
      ],
      "source": [
        "for key in new_dict:\n",
        "    print(key, \":\", new_dict[key])"
      ]
    },
    {
      "cell_type": "code",
      "execution_count": null,
      "metadata": {
        "colab": {
          "base_uri": "https://localhost:8080/"
        },
        "id": "jcHoVQgBrZek",
        "outputId": "25af3d7d-35dc-4fd5-b14c-68f3675cdda6"
      },
      "outputs": [
        {
          "name": "stdout",
          "output_type": "stream",
          "text": [
            "day ; 5\n",
            "venue ; GJB\n",
            "event ; Python Carnival!\n"
          ]
        }
      ],
      "source": [
        "for key, value in new_dict.items():\n",
        "    print(key, \";\", value)"
      ]
    },
    {
      "cell_type": "markdown",
      "metadata": {
        "id": "bdapLUbwrgmw"
      },
      "source": [
        "![](https://github.com/univai-pyprep-c1/BasicPython/raw/9a66b164175e3032fb88db4112754c1cb07ac4d8//data_structures.slides.dir/5.png)\n",
        "\n",
        "Dictionaries can also be constructed using **dictionary comprehensions**"
      ]
    },
    {
      "cell_type": "code",
      "execution_count": null,
      "metadata": {
        "colab": {
          "base_uri": "https://localhost:8080/"
        },
        "id": "sqBWTKv4rnRq",
        "outputId": "345ea178-ac81-44d9-d06a-b9d40bb39ab6"
      },
      "outputs": [
        {
          "name": "stdout",
          "output_type": "stream",
          "text": [
            "Output Dictionary using dictionary comprehensions: {1: 1, 3: 27, 5: 125, 7: 343}\n"
          ]
        }
      ],
      "source": [
        "# Using Dictionary comprehensions to create an output dictionary which contains only the odd numbers that are present in the input list as keys and their cubes as values\n",
        "  \n",
        "input_list = [1,2,3,4,5,6,7] \n",
        "dict_using_comp = {var:var ** 3 for var in input_list if var % 2 != 0} \n",
        "  \n",
        "print(\"Output Dictionary using dictionary comprehensions:\", dict_using_comp)"
      ]
    },
    {
      "cell_type": "markdown",
      "metadata": {
        "id": "2kR21EErtqB1"
      },
      "source": [
        "## EXERCISE 3: Count words in Julius Caesar and make a text based histogram\n",
        "\n",
        "Building on Exercise 2, using lowercase words, lets make a histogram. Create a dictionary `worddict`, that has the counts of all the words in Caesar."
      ]
    },
    {
      "cell_type": "code",
      "execution_count": null,
      "metadata": {
        "id": "VnmYMRmruMxF"
      },
      "outputs": [],
      "source": [
        "# your code here\n",
        "## Read a file, parse lines, and get all UNIQUE words\n",
        "\n",
        "worddict = dict() # make a set with unique items  \n",
        "fd = open(\"data/Julius Caesar.txt\")\n",
        "lines = fd.readlines()\n",
        "fd.close()\n",
        "# strip newline characters and other whitespace off the edges\n",
        "cleaned_lines = [line.strip() for line in lines] \n",
        "# make a list of lists. \n",
        "# each inner list if the list of words on that line\n",
        "list_of_lines_words = [line.split() for line in lines]\n",
        "# Take each list of words, and get all the words\n",
        "for lines_words in list_of_lines_words:\n",
        "    lines_words_lower = [l.lower() for l in lines_words]\n",
        "    for word in lines_words_lower:\n",
        "        if not word in worddict:\n",
        "            worddict[word] = 1\n",
        "        else:\n",
        "            worddict[word] += 1"
      ]
    },
    {
      "cell_type": "markdown",
      "metadata": {
        "id": "Uy_MRxWkuU1J"
      },
      "source": [
        "Now here is where the iterative nature of dictionaries can be used to our benefit. We sort the `worddict`, using the function `worddict.get` to provide the values, which are the counts."
      ]
    },
    {
      "cell_type": "code",
      "execution_count": null,
      "metadata": {
        "id": "JBOTasUtuP39"
      },
      "outputs": [],
      "source": [
        "topwords = sorted(worddict, key = worddict.get, reverse=True)"
      ]
    },
    {
      "cell_type": "code",
      "execution_count": null,
      "metadata": {
        "colab": {
          "base_uri": "https://localhost:8080/"
        },
        "id": "cCNmClLpubQU",
        "outputId": "98cd9f41-1c0a-4a9a-80b9-00205997f5dc"
      },
      "outputs": [
        {
          "name": "stdout",
          "output_type": "stream",
          "text": [
            "the 629\n",
            "and 627\n",
            "i 499\n",
            "to 422\n",
            "of 374\n",
            "you 312\n",
            "a 275\n",
            "that 269\n",
            "is 236\n",
            "in 228\n",
            "brutus. 215\n",
            "not 207\n",
            "my 189\n",
            "he 185\n",
            "for 168\n",
            "his 157\n",
            "with 156\n",
            "it 153\n",
            "cassius. 150\n",
            "be 144\n"
          ]
        }
      ],
      "source": [
        "for word in topwords[:20]:\n",
        "    print(word, worddict[word])"
      ]
    },
    {
      "cell_type": "markdown",
      "metadata": {
        "id": "H0JcCP74tD2Q"
      },
      "source": [
        "![](https://github.com/univai/Workshops/blob/master/images/slide22.jpg?raw=1)"
      ]
    },
    {
      "cell_type": "markdown",
      "metadata": {
        "id": "NwtM6FHItD2Q"
      },
      "source": [
        "## Plotting using the library `matplotlib`\n",
        "\n",
        "The standard plotting library in python is `matplotlib`, which is a very powerful plotting library. Let us see how to plot the time series of unemployment numbers from California.\n",
        "\n",
        "We first import the library and instruct it to plot \"inline\" in the Jupyter notebook."
      ]
    },
    {
      "cell_type": "code",
      "execution_count": null,
      "metadata": {
        "id": "Br0OWHG3tD2Q"
      },
      "outputs": [],
      "source": [
        "import matplotlib.pyplot as plt\n",
        "%matplotlib inline"
      ]
    },
    {
      "cell_type": "markdown",
      "metadata": {
        "id": "JzQKqf1qtD2Q"
      },
      "source": [
        "We first create a figure, and axes associated with this figure using the figure constructor. The relationship of the axes to the figure can be seen in this diagram from Brandon Rohrer's excellent free matplotlib course at https://end-to-end-machine-learning.teachable.com/p/navigating-matplotlib-tutorial-how-to/ .\n",
        "\n",
        "For us though, the main thing to know is that figures hold axes, and axes hold lines. This plot from the above course illustrates this well:\n",
        "\n",
        "![](https://github.com/univai/Workshops/blob/master/images/figax.png?raw=1)"
      ]
    },
    {
      "cell_type": "code",
      "execution_count": null,
      "metadata": {
        "id": "ZLTAZTkktD2Q",
        "outputId": "11eaec49-56b0-4c17-bd6a-7da227b34ef5"
      },
      "outputs": [
        {
          "data": {
            "image/png": "[encoded data removed]",
            "text/plain": [
              "<Figure size 648x432 with 1 Axes>"
            ]
          },
          "metadata": {
            "needs_background": "light"
          },
          "output_type": "display_data"
        }
      ],
      "source": [
        "# a 9 inch x 6 inch figure\n",
        "whatsthis = plt.subplots(figsize = (9,6))"
      ]
    },
    {
      "cell_type": "code",
      "execution_count": null,
      "metadata": {
        "id": "SXn3fDWvtD2Q",
        "outputId": "d20716cf-d82a-4e05-cfcf-9e2c9a08c6f7"
      },
      "outputs": [
        {
          "data": {
            "text/plain": [
              "(tuple, 2)"
            ]
          },
          "execution_count": 66,
          "metadata": {},
          "output_type": "execute_result"
        }
      ],
      "source": [
        "type(whatsthis), len(whatsthis)"
      ]
    },
    {
      "cell_type": "markdown",
      "metadata": {
        "id": "VWA9M9fKtD2R"
      },
      "source": [
        "The `subplots` constructor has the type of `tuple`. This is another python list like object, with the addition that it is immutable:"
      ]
    },
    {
      "cell_type": "code",
      "execution_count": null,
      "metadata": {
        "id": "iCKrh-RJtD2R",
        "outputId": "a609df76-0994-4af5-9cf5-a8c05873d2ba"
      },
      "outputs": [
        {
          "ename": "TypeError",
          "evalue": "'tuple' object does not support item assignment",
          "output_type": "error",
          "traceback": [
            "\u001b[0;31m---------------------------------------------------------------------------\u001b[0m",
            "\u001b[0;31mTypeError\u001b[0m                                 Traceback (most recent call last)",
            "\u001b[0;32m<ipython-input-64-bbfc69bf9bb4>\u001b[0m in \u001b[0;36m<module>\u001b[0;34m\u001b[0m\n\u001b[0;32m----> 1\u001b[0;31m \u001b[0mwhatsthis\u001b[0m\u001b[0;34m[\u001b[0m\u001b[0;36m1\u001b[0m\u001b[0;34m]\u001b[0m\u001b[0;34m=\u001b[0m\u001b[0;34m\"Hello\"\u001b[0m\u001b[0;34m\u001b[0m\u001b[0;34m\u001b[0m\u001b[0m\n\u001b[0m",
            "\u001b[0;31mTypeError\u001b[0m: 'tuple' object does not support item assignment"
          ]
        }
      ],
      "source": [
        "whatsthis[1] = \"Hello\""
      ]
    },
    {
      "cell_type": "markdown",
      "metadata": {
        "id": "gkJI_zCCtD2R"
      },
      "source": [
        "What is in this tuple? Its the figure, and the axes inside it. By convention, we will write:"
      ]
    },
    {
      "cell_type": "code",
      "execution_count": null,
      "metadata": {
        "id": "6vV0CGfmtD2R",
        "outputId": "f6112f77-6a93-46f4-bcf1-0508558bcdbf"
      },
      "outputs": [
        {
          "data": {
            "text/plain": [
              "(matplotlib.figure.Figure, matplotlib.axes._subplots.AxesSubplot)"
            ]
          },
          "execution_count": 65,
          "metadata": {},
          "output_type": "execute_result"
        },
        {
          "data": {
            "image/png": "[encoded data removed]",
            "text/plain": [
              "<Figure size 648x432 with 1 Axes>"
            ]
          },
          "metadata": {
            "needs_background": "light"
          },
          "output_type": "display_data"
        }
      ],
      "source": [
        "fig, ax = plt.subplots(figsize = (9,6))\n",
        "type(fig), type(ax)"
      ]
    },
    {
      "cell_type": "markdown",
      "metadata": {
        "id": "KCCznw1ktD2R"
      },
      "source": [
        "This assignment to individual variables from inside a tuple is an often used idiom in python, and is called **de-structuring**.\n",
        "\n",
        "With all that technology out of the way, lets read the California data file and do some plotting! We first read in the data, which looks like this:\n",
        "\n",
        "```\n",
        "DATE,CAUR\n",
        "1976-01-01,9.2\n",
        "1976-02-01,9.2\n",
        "1976-03-01,9.1\n",
        "1976-04-01,9.1\n",
        "```\n",
        "\n",
        "How do we deal with dates? We create a date object and initialize it using a kind of constructor called a classmethod (this is not important for now, but i wanted to write it here for full disclosure)"
      ]
    },
    {
      "cell_type": "code",
      "execution_count": null,
      "metadata": {
        "id": "aK1ehVFEtD2R",
        "outputId": "49042b5c-6ea3-4e3b-91a4-5bd3d5748907"
      },
      "outputs": [
        {
          "data": {
            "text/plain": [
              "datetime.date(1976, 4, 1)"
            ]
          },
          "execution_count": 73,
          "metadata": {},
          "output_type": "execute_result"
        }
      ],
      "source": [
        "from datetime import date # this is\n",
        "date.fromisoformat('1976-04-01')"
      ]
    },
    {
      "cell_type": "code",
      "execution_count": null,
      "metadata": {
        "id": "bUhdjbPktD2S",
        "outputId": "3a999a1c-461d-4c37-9822-112dcca55379"
      },
      "outputs": [
        {
          "name": "stdout",
          "output_type": "stream",
          "text": [
            "550\n"
          ]
        },
        {
          "data": {
            "text/plain": [
              "[9.2, 9.2, 9.1, 9.1, 9.0, 9.0, 9.0, 9.1, 9.2, 9.3]"
            ]
          },
          "execution_count": 74,
          "metadata": {},
          "output_type": "execute_result"
        }
      ],
      "source": [
        "dates = list()\n",
        "data = list()\n",
        "fd = open(\"data/CAUR.csv\")\n",
        "counter = 0\n",
        "for line in fd:\n",
        "    lineelements = line.strip().split(',')\n",
        "    date_string = lineelements[0].strip()\n",
        "    unemploy_string = lineelements[-1].strip()\n",
        "    if counter > 0:\n",
        "        data.append(float(unemploy_string))\n",
        "        dates.append(date.fromisoformat(date_string))\n",
        "    counter += 1\n",
        "fd.close()\n",
        "print(len(data))\n",
        "data[:10]"
      ]
    },
    {
      "cell_type": "markdown",
      "metadata": {
        "id": "RtVZb5QotD2S"
      },
      "source": [
        "Now we'll use the matplotlib axes method `plot` to plot the unemployment percentages"
      ]
    },
    {
      "cell_type": "code",
      "execution_count": null,
      "metadata": {
        "id": "d1m_aIlQtD2S",
        "outputId": "370c994c-2f3f-4f1a-f6d3-a561cdf249bb"
      },
      "outputs": [
        {
          "data": {
            "text/plain": [
              "[<matplotlib.lines.Line2D at 0x11fbb86d0>]"
            ]
          },
          "execution_count": 75,
          "metadata": {},
          "output_type": "execute_result"
        },
        {
          "data": {
            "image/png": "[encoded data removed]",
            "text/plain": [
              "<Figure size 648x432 with 1 Axes>"
            ]
          },
          "metadata": {
            "needs_background": "light"
          },
          "output_type": "display_data"
        }
      ],
      "source": [
        "fig, ax = plt.subplots(figsize = (9,6))\n",
        "ax.plot(dates, data)"
      ]
    },
    {
      "cell_type": "markdown",
      "metadata": {
        "id": "LUNz2TjjtD2S"
      },
      "source": [
        "We'll use some other methods on the axes object to create a nicelay labelled plot:"
      ]
    },
    {
      "cell_type": "code",
      "execution_count": null,
      "metadata": {
        "id": "iRBvkWmLtD2S",
        "outputId": "62774c57-f3cf-4f41-fceb-f2d407643526"
      },
      "outputs": [
        {
          "data": {
            "image/png": "[encoded data removed]",
            "text/plain": [
              "<Figure size 648x432 with 1 Axes>"
            ]
          },
          "metadata": {
            "needs_background": "light"
          },
          "output_type": "display_data"
        }
      ],
      "source": [
        "fig, ax = plt.subplots(figsize = (9,6))\n",
        "ax.plot(dates, data)\n",
        "ax.set_xlabel(\"Year\")\n",
        "ax.set_ylabel(\"Percentage\")\n",
        "ax.set_title(\"State of California Un-employment\");"
      ]
    },
    {
      "cell_type": "markdown",
      "metadata": {
        "id": "LOHp1uSztD2S"
      },
      "source": [
        "## EXERCISE 4: make a plot with 3-subplots for NY, CA, and TX states\n",
        "\n",
        "To do this, create a dictionary to hold the data for each state. Modify the code to obtain the data from above, by encapsulating it into a function. \n",
        "\n",
        "We will do some parts of this exercise for you, and ask you to do some."
      ]
    },
    {
      "cell_type": "markdown",
      "metadata": {
        "id": "7BxjbvbgtD2S"
      },
      "source": [
        "### Defining your own functions"
      ]
    },
    {
      "cell_type": "code",
      "execution_count": null,
      "metadata": {
        "colab": {
          "base_uri": "https://localhost:8080/"
        },
        "id": "SnlV7-vIkX6u",
        "outputId": "7d54e8fd-ba05-441b-d311-bf1affb1297d"
      },
      "outputs": [
        {
          "name": "stdout",
          "output_type": "stream",
          "text": [
            "16\n"
          ]
        }
      ],
      "source": [
        "# User-defined function with one argument\n",
        "\n",
        "def function_name1(var1):\n",
        "    var2 = 10\n",
        "    x = var1 + var2\n",
        "    return x\n",
        "\n",
        "var1 = 6\n",
        "var2 = function_name1(var1)\n",
        "print (var2)"
      ]
    },
    {
      "cell_type": "markdown",
      "metadata": {
        "id": "ne9EYCuDlYCO"
      },
      "source": [
        "![](https://github.com/univai-pyprep-c1/BasicPython/raw/9a66b164175e3032fb88db4112754c1cb07ac4d8//functions.slides.dir/7.png)\n",
        "\n",
        "Scope of a variable is the portion of a program where the variable is recognized. Parameters and variables defined inside a function are not visible from outside. Hence, they have a **local scope**.\n",
        "\n",
        "Lifetime of a variable is the period throughout which the variable exits in the memory. The lifetime of variables inside a function is as long as the function executes.\n",
        "\n",
        "They are destroyed once we return from the function. Hence, a function does not remember the value of a variable from its previous calls.\n",
        "\n",
        "The scope of this jupyter notebook, or in a python file, is the **global scope**. Variables defined here exist through the lifetime of the python program."
      ]
    },
    {
      "cell_type": "code",
      "execution_count": null,
      "metadata": {
        "colab": {
          "base_uri": "https://localhost:8080/"
        },
        "id": "hZHdtYu0lTIb",
        "outputId": "b6e1729f-05eb-4195-dc5d-fad5fcec60aa"
      },
      "outputs": [
        {
          "name": "stdout",
          "output_type": "stream",
          "text": [
            "Value inside function: 10\n",
            "Value outside function: 20\n"
          ]
        }
      ],
      "source": [
        "def my_func():\n",
        "    x = 10\n",
        "    print(\"Value inside function:\",x)\n",
        "\n",
        "x = 20\n",
        "my_func()\n",
        "print(\"Value outside function:\",x)"
      ]
    },
    {
      "cell_type": "markdown",
      "metadata": {
        "id": "XY2og1WQtD2f"
      },
      "source": [
        "### Creating a function to get data\n",
        "\n",
        "Let us **refactor** our code to read data into a function. The function will go find the file, and read-in the data."
      ]
    },
    {
      "cell_type": "code",
      "execution_count": null,
      "metadata": {
        "id": "bVznVgo_tD2f"
      },
      "outputs": [],
      "source": [
        "def get_unemployment_data(state_abbrev):\n",
        "    dates = list()\n",
        "    data = list()\n",
        "    fd = open(\"data/\"+state_abbrev+\"UR.csv\")\n",
        "    counter = 0\n",
        "    for line in fd:\n",
        "        lineelements = line.strip().split(',')\n",
        "        date_string = lineelements[0].strip()\n",
        "        unemploy_string = lineelements[-1].strip()\n",
        "        if counter > 0:\n",
        "            data.append(float(unemploy_string))\n",
        "            dates.append(date.fromisoformat(date_string))\n",
        "        counter += 1\n",
        "    fd.close()\n",
        "    return dates, data # return a tuple of data"
      ]
    },
    {
      "cell_type": "markdown",
      "metadata": {
        "id": "v6J2jIahtD2f"
      },
      "source": [
        "Now create a dictionary `state_data` whose keys are `TX`, `NY', and 'CA` and whose values are the tuples of data returned by the function above"
      ]
    },
    {
      "cell_type": "code",
      "execution_count": null,
      "metadata": {
        "id": "J3b3pIQdtD2f"
      },
      "outputs": [],
      "source": [
        "# your code here\n",
        "state_data=dict()\n",
        "for key in ['TX', 'NY', 'CA']:\n",
        "    state_data[key] = get_unemployment_data(key)"
      ]
    },
    {
      "cell_type": "markdown",
      "metadata": {
        "id": "n0YywzEqtD2f"
      },
      "source": [
        "How do we get 3 rows of plot areas in `matplotlib`. The arguments to the `subplots` method help us out here:"
      ]
    },
    {
      "cell_type": "code",
      "execution_count": null,
      "metadata": {
        "id": "aXmLuFYztD2f",
        "outputId": "ccdb09cf-0b6c-420c-f59f-ee22ba15080c"
      },
      "outputs": [
        {
          "data": {
            "text/plain": [
              "array([<AxesSubplot:>, <AxesSubplot:>, <AxesSubplot:>], dtype=object)"
            ]
          },
          "execution_count": 83,
          "metadata": {},
          "output_type": "execute_result"
        },
        {
          "data": {
            "image/png": "[encoded data removed]",
            "text/plain": [
              "<Figure size 648x432 with 3 Axes>"
            ]
          },
          "metadata": {
            "needs_background": "light"
          },
          "output_type": "display_data"
        }
      ],
      "source": [
        "fig, ax = plt.subplots(nrows=3, figsize = (9,6))\n",
        "ax"
      ]
    },
    {
      "cell_type": "markdown",
      "metadata": {
        "id": "bq_kU8e7tD2f"
      },
      "source": [
        "Whats this `array`? Its a numpy ndarray, a new multi-dimensional, fast, memory-contiguous list like data structure that we'll learn about later. But for now think of it as a list. So, this is a list with 3 plot axes, and now we just need to make sure that we dispatch the right data to the right plot. \n",
        "\n",
        "This is your job. Give it a whirl, using the documentation os the constructor `enumerate`, which creates enumerations:"
      ]
    },
    {
      "cell_type": "code",
      "execution_count": null,
      "metadata": {
        "id": "SXzAhjzWtD2g",
        "outputId": "cdde816a-66bb-4376-f0a8-27c7e7b281a5"
      },
      "outputs": [
        {
          "data": {
            "text/plain": [
              "<enumerate at 0x11fdcde80>"
            ]
          },
          "execution_count": 84,
          "metadata": {},
          "output_type": "execute_result"
        }
      ],
      "source": [
        "enumerate(['TX', 'NY', 'CA'])"
      ]
    },
    {
      "cell_type": "code",
      "execution_count": null,
      "metadata": {
        "id": "ZPXKlWM8tD2g",
        "outputId": "46b211e4-979b-4c7c-8d77-81cbb3abc40c"
      },
      "outputs": [
        {
          "name": "stdout",
          "output_type": "stream",
          "text": [
            "0 TX\n",
            "1 NY\n",
            "2 CA\n"
          ]
        }
      ],
      "source": [
        "for i, state in enumerate(['TX', 'NY', 'CA']):\n",
        "    print (i, state)"
      ]
    },
    {
      "cell_type": "markdown",
      "metadata": {
        "id": "jVX-vGm3tD2g"
      },
      "source": [
        "### Make Your Plot\n",
        "\n",
        "Ok, so create the plot, with the title on top of the first plot, and the y-labels for each plot as the state:"
      ]
    },
    {
      "cell_type": "code",
      "execution_count": null,
      "metadata": {
        "id": "JqQDJwaNtD2g",
        "outputId": "dfd29f00-b8f6-473a-c871-fca84cc23ae9"
      },
      "outputs": [
        {
          "data": {
            "image/png": "[encoded data removed]",
            "text/plain": [
              "<Figure size 648x432 with 3 Axes>"
            ]
          },
          "metadata": {
            "needs_background": "light"
          },
          "output_type": "display_data"
        }
      ],
      "source": [
        "# your code here\n",
        "fig, ax = plt.subplots(nrows = 3, figsize = (9,6))\n",
        "for i, state in enumerate(['TX', 'NY', 'CA']):\n",
        "    dates, data = state_data[state]\n",
        "    ax[i].plot(dates, data)\n",
        "    ax[i].set_ylabel(state)\n",
        "ax[2].set_xlabel(\"Year\")\n",
        "ax[0].set_title(\"Percentage Un-employment\");"
      ]
    }
  ],
  "metadata": {
    "colab": {
      "collapsed_sections": [],
      "name": "PythonWorkshop.ipynb",
      "provenance": []
    },
    "kernelspec": {
      "display_name": "Python 3",
      "language": "python",
      "name": "python3"
    },
    "language_info": {
      "codemirror_mode": {
        "name": "ipython",
        "version": 3
      },
      "file_extension": ".py",
      "mimetype": "text/x-python",
      "name": "python",
      "nbconvert_exporter": "python",
      "pygments_lexer": "ipython3",
      "version": "3.9.1"
    }
  },
  "nbformat": 4,
  "nbformat_minor": 0
}